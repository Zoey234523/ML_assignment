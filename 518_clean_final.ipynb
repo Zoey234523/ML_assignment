{
  "nbformat": 4,
  "nbformat_minor": 0,
  "metadata": {
    "colab": {
      "provenance": [],
      "authorship_tag": "ABX9TyOzr2+lebLMGjMCO2p4hnN7",
      "include_colab_link": true
    },
    "kernelspec": {
      "name": "python3",
      "display_name": "Python 3"
    },
    "language_info": {
      "name": "python"
    }
  },
  "cells": [
    {
      "cell_type": "markdown",
      "metadata": {
        "id": "view-in-github",
        "colab_type": "text"
      },
      "source": [
        "<a href=\"https://colab.research.google.com/github/Zoey234523/ML_assignment/blob/main/518_clean_final.ipynb\" target=\"_parent\"><img src=\"https://colab.research.google.com/assets/colab-badge.svg\" alt=\"Open In Colab\"/></a>"
      ]
    },
    {
      "cell_type": "code",
      "execution_count": 1,
      "metadata": {
        "id": "ltEJjG8tLK2N"
      },
      "outputs": [],
      "source": [
        "import pandas as pd"
      ]
    },
    {
      "cell_type": "code",
      "source": [
        "df = pd.read_csv('train_data.csv')"
      ],
      "metadata": {
        "id": "r6MBn5U7Lr1G"
      },
      "execution_count": 8,
      "outputs": []
    },
    {
      "cell_type": "code",
      "source": [
        "df.columns"
      ],
      "metadata": {
        "colab": {
          "base_uri": "https://localhost:8080/"
        },
        "id": "aM7kRKXnLyQe",
        "outputId": "31d3f786-6de6-4eea-a81f-0a253ecbb003"
      },
      "execution_count": 4,
      "outputs": [
        {
          "output_type": "execute_result",
          "data": {
            "text/plain": [
              "Index(['UserID', 'QuestionTiming', 'TimeUtc', 'CurrentGameMode', 'CurrentTask',\n",
              "       'CurrentSessionLength', 'LastTaskCompleted', 'LevelProgressionAmount',\n",
              "       'QuestionType', 'ResponseValue'],\n",
              "      dtype='object')"
            ]
          },
          "metadata": {},
          "execution_count": 4
        }
      ]
    },
    {
      "cell_type": "markdown",
      "source": [
        "**Step 1: Delete anomalies in the 'CurrentSessionLength' (<0, >7000)**"
      ],
      "metadata": {
        "id": "iOABP3ADb0I1"
      }
    },
    {
      "cell_type": "code",
      "source": [
        "df = df[(df['CurrentSessionLength'] >= 0) & (df['CurrentSessionLength'] <= 7000)]\n"
      ],
      "metadata": {
        "id": "Khas6akJL3E-"
      },
      "execution_count": 9,
      "outputs": []
    },
    {
      "cell_type": "markdown",
      "source": [
        "**Step 2:**\n",
        "**Deal** **with CurrentGameMode's missing** **values**\n",
        "\n",
        "Method: multinomial logical regression model (with UserID, ResponseValue)\n",
        "\n",
        "*Result: The regression model below outputs the same result as imputing it with mode 'Career' :(*"
      ],
      "metadata": {
        "id": "Yh5kfEDkNE_D"
      }
    },
    {
      "cell_type": "code",
      "source": [
        "from sklearn.linear_model import LogisticRegression\n",
        "from sklearn.preprocessing import LabelEncoder\n",
        "\n",
        "user_id_encoder = LabelEncoder()\n",
        "df['UserID_encoded'] = user_id_encoder.fit_transform(df['UserID'])\n",
        "\n",
        "game_mode_encoder = LabelEncoder()\n",
        "df['CurrentGameMode_encoded'] = game_mode_encoder.fit_transform(df['CurrentGameMode'].astype(str))\n",
        "\n",
        "# split data and train logical-regression model\n",
        "train_df = df[df['CurrentGameMode'].notnull()]\n",
        "test_df = df[df['CurrentGameMode'].isnull()]\n",
        "\n",
        "X_train = train_df[['UserID_encoded', 'ResponseValue']]\n",
        "y_train = train_df['CurrentGameMode_encoded']\n",
        "\n",
        "X_test = test_df[['UserID_encoded', 'ResponseValue']]\n",
        "\n",
        "model = LogisticRegression(multi_class='multinomial', solver='lbfgs', max_iter=200)\n",
        "model.fit(X_train, y_train)\n",
        "\n",
        "predicted = model.predict(X_test)\n",
        "predicted_labels = game_mode_encoder.inverse_transform(predicted)\n",
        "\n",
        "df.loc[df['CurrentGameMode'].isnull(), 'CurrentGameMode'] = predicted_labels"
      ],
      "metadata": {
        "colab": {
          "base_uri": "https://localhost:8080/"
        },
        "id": "ga4Ab9ijND-L",
        "outputId": "2638f3c6-45b2-4931-e565-3186e1e99230"
      },
      "execution_count": 10,
      "outputs": [
        {
          "output_type": "stream",
          "name": "stdout",
          "text": [
            "0\n"
          ]
        }
      ]
    },
    {
      "cell_type": "code",
      "source": [
        "# check\n",
        "print('Current number of missing values in CurrentGameMode:',df['CurrentGameMode'].isnull().sum())\n",
        "\n",
        "category_counts = df['CurrentGameMode'].value_counts()\n",
        "print(\"Number of each category in CurrentGameMode:\")\n",
        "print(category_counts)"
      ],
      "metadata": {
        "colab": {
          "base_uri": "https://localhost:8080/"
        },
        "id": "GGtodubdcKTR",
        "outputId": "59c6079f-a5bb-490a-a2e0-a43cab9e5820"
      },
      "execution_count": 20,
      "outputs": [
        {
          "output_type": "stream",
          "name": "stdout",
          "text": [
            "Current number of missing values in CurrentGameMode: 0\n",
            "Number of each category in CurrentGameMode:\n",
            "CurrentGameMode\n",
            "Career       127731\n",
            "Special        4404\n",
            "FreePlay       2265\n",
            "Challenge        16\n",
            "Name: count, dtype: int64\n"
          ]
        }
      ]
    },
    {
      "cell_type": "code",
      "source": [
        "df.to_csv('impute_CGM.csv')"
      ],
      "metadata": {
        "id": "ypIZwKCqjTr9"
      },
      "execution_count": 28,
      "outputs": []
    },
    {
      "cell_type": "markdown",
      "source": [
        "**Step 3: Impute missing values in CurrentTask**\n",
        "\n",
        "Method:\n",
        "1. sort by UserID and TimeUtc\n",
        "\n",
        "2. For each row, if CurrentTask is missing:\n",
        "  \n",
        "*  Check both the previous and next non-null CurrentTask values. Compare the time differences to the current row.\n",
        "\n",
        "*  Impute the missing value with the CurrentTask that has the shorter time difference.\n",
        "\n",
        "3. If no appropriate previous or next task is found, we calculate the mode of the non-null CurrentTask values from the last week of data. These remaining missing values are then filled with this mode value. (the reason why I use mode of week's data is trying to keep the diversity of currenttask)"
      ],
      "metadata": {
        "id": "nPmdJkpfdbIK"
      }
    },
    {
      "cell_type": "code",
      "source": [
        "df = pd.read_csv('impute_CGM.csv')"
      ],
      "metadata": {
        "id": "Lb_pIGulcROI"
      },
      "execution_count": 30,
      "outputs": []
    },
    {
      "cell_type": "code",
      "source": [
        "from datetime import timedelta\n",
        "\n",
        "df['TimeUtc'] = pd.to_datetime(df['TimeUtc'])\n",
        "\n",
        "df.sort_values(by=['UserID', 'TimeUtc'], inplace=True)\n",
        "\n",
        "start_date = df['TimeUtc'].min()\n",
        "df['Week'] = ((df['TimeUtc'] - start_date).dt.days // 7)\n",
        "\n",
        "# Function to fill missing CurrentTask values\n",
        "def fill_missing(row):\n",
        "    if pd.isnull(row['CurrentTask']):\n",
        "        previous_data = df[(df['UserID'] == row['UserID']) & (~df['CurrentTask'].isnull()) & (df['TimeUtc'] < row['TimeUtc'])]\n",
        "        next_data = df[(df['UserID'] == row['UserID']) & (~df['CurrentTask'].isnull()) & (df['TimeUtc'] > row['TimeUtc'])]\n",
        "\n",
        "        previous_task = None\n",
        "        next_task = None\n",
        "        time_diff_prev = timedelta.max\n",
        "        time_diff_next = timedelta.max\n",
        "\n",
        "        if not previous_data.empty:\n",
        "            time_diff_prev = row['TimeUtc'] - previous_data.iloc[-1]['TimeUtc']\n",
        "            if time_diff_prev <= timedelta(hours=24):\n",
        "                previous_level = previous_data.iloc[-1]['LevelProgressionAmount']\n",
        "                if previous_level != 1:\n",
        "                    previous_task = previous_data.iloc[-1]['CurrentTask']\n",
        "\n",
        "        if not next_data.empty:\n",
        "            time_diff_next = next_data.iloc[0]['TimeUtc'] - row['TimeUtc']\n",
        "            if time_diff_next <= timedelta(hours=24):\n",
        "                next_level = next_data.iloc[0]['LevelProgressionAmount']\n",
        "                if next_level != 1:\n",
        "                    next_task = next_data.iloc[0]['CurrentTask']\n",
        "\n",
        "        if previous_task is not None and next_task is not None:\n",
        "            if time_diff_prev <= time_diff_next:\n",
        "                return previous_task\n",
        "            else:\n",
        "                return next_task\n",
        "        elif previous_task is not None:\n",
        "            return previous_task\n",
        "        elif next_task is not None:\n",
        "            return next_task\n",
        "\n",
        "        # If neither previous_task nor next_task are suitable, use the mode of the current week\n",
        "        week_data = df[(df['Week'] == row['Week']) & (~df['CurrentTask'].isnull())]\n",
        "        if not week_data.empty:\n",
        "            return week_data['CurrentTask'].mode()[0]\n",
        "\n",
        "    return row['CurrentTask']\n",
        "\n",
        "df['CurrentTask'] = df.apply(fill_missing, axis=1)"
      ],
      "metadata": {
        "id": "s8-xJFZygJaC"
      },
      "execution_count": 31,
      "outputs": []
    },
    {
      "cell_type": "code",
      "source": [
        "# check\n",
        "print(df['CurrentTask'].isnull().sum())\n",
        "print(df['CurrentGameMode'].isnull().sum())"
      ],
      "metadata": {
        "colab": {
          "base_uri": "https://localhost:8080/"
        },
        "id": "Wdoh_WJcjPxb",
        "outputId": "0edf8c84-eb99-40d1-dfb7-00f14d8f68d9"
      },
      "execution_count": 33,
      "outputs": [
        {
          "output_type": "stream",
          "name": "stdout",
          "text": [
            "0\n",
            "0\n"
          ]
        }
      ]
    },
    {
      "cell_type": "code",
      "source": [
        "df.to_csv('impute_CGM_CT.csv')"
      ],
      "metadata": {
        "id": "0DvzYZVeovaV"
      },
      "execution_count": 34,
      "outputs": []
    },
    {
      "cell_type": "markdown",
      "source": [
        "**Step 4: Impute LevelProgressionAmount's missing values**\n",
        "\n",
        "Method:\n",
        "\n",
        "\n",
        "*   Finds nearby non-missing records of the same user's same task within a 24-hour window. If such nearby records exist, it performs linear interpolation to estimate the missing value based on the time. If no nearby records exist, it fills the missing value with the median 'LevelProgressionAmount' of the user.\n",
        "*   After applying first method, there are still 249 missing values (those currenttask are all 'RECREATIONGROUND_PLAYGROUND'). So for those whose currentsessionlength < 5, use this category's mdeian, >5 another median"
      ],
      "metadata": {
        "id": "PgjUhPL1o5F_"
      }
    },
    {
      "cell_type": "code",
      "source": [
        "df['TimeUtc'] = pd.to_datetime(df['TimeUtc'])\n",
        "df.sort_values(by=['UserID', 'CurrentTask', 'TimeUtc'], inplace=True)\n",
        "\n",
        "def fill_missing_values(df):\n",
        "    filled_amount = []\n",
        "    for i in range(len(df)):\n",
        "        if pd.isnull(df.iloc[i]['LevelProgressionAmount']):\n",
        "            # Find nearby non-missing records of the same user, task, and within a 24-hour window\n",
        "            near_rows = df[(df['UserID'] == df.iloc[i]['UserID']) &\n",
        "                           (df['CurrentTask'] == df.iloc[i]['CurrentTask']) &\n",
        "                           (df['TimeUtc'] >= df.iloc[i]['TimeUtc'] - pd.Timedelta(hours=24)) &\n",
        "                           (df['TimeUtc'] <= df.iloc[i]['TimeUtc'] + pd.Timedelta(hours=24)) &\n",
        "                           (~df['LevelProgressionAmount'].isnull())]\n",
        "            if not near_rows.empty:\n",
        "                # Use linear interpolation to fill the missing value\n",
        "                x = near_rows['TimeUtc'].values.astype(np.int64)\n",
        "                y = near_rows['LevelProgressionAmount'].values\n",
        "                x_interp = df.iloc[i]['TimeUtc'].value\n",
        "                filled_value = np.interp(x_interp, x, y, left=0, right=1)\n",
        "                filled_amount.append(max(min(filled_value, 1), 0))  # Limit between 0 and 1\n",
        "            else:\n",
        "                # Fill the missing value with the median LevelProgressionAmount of the user\n",
        "                median_value = df[(df['UserID'] == df.iloc[i]['UserID']) &\n",
        "                                  (~df['LevelProgressionAmount'].isnull())]['LevelProgressionAmount'].median()\n",
        "                filled_amount.append(median_value)\n",
        "        else:\n",
        "            filled_amount.append(df.iloc[i]['LevelProgressionAmount'])\n",
        "    return filled_amount\n",
        "\n",
        "df['FilledLevelProgressionAmount'] = fill_missing_values(df)\n",
        "\n",
        "# Calculate LevelProgressionAmount's mean\n",
        "filtered1_df = df[(df['CurrentTask'] == 'RECREATIONGROUND_PLAYGROUND') & (df['CurrentSessionLength'] < 5)]\n",
        "mean_value_1 = filtered1_df['LevelProgressionAmount'].mean()\n",
        "filtered2_df = df[(df['CurrentTask'] == 'RECREATIONGROUND_PLAYGROUND') &\n",
        "                 (df['CurrentSessionLength'] <= 20) &\n",
        "                 (df['CurrentSessionLength'] >= 5)]\n",
        "mean_value_2 = filtered2_df['LevelProgressionAmount'].mean()\n",
        "\n",
        "df.loc[df['FilledLevelProgressionAmount'].isnull() & (df['CurrentSessionLength'] < 5), 'FilledLevelProgressionAmount'] = mean_value_1\n",
        "df.loc[df['FilledLevelProgressionAmount'].isnull() & (df['CurrentSessionLength'] >= 5), 'FilledLevelProgressionAmount'] = mean_value_2\n"
      ],
      "metadata": {
        "colab": {
          "base_uri": "https://localhost:8080/"
        },
        "id": "DOPLyBXAp8A6",
        "outputId": "5e3b3d5f-b10f-4e1f-e9ce-60ce7304dd09"
      },
      "execution_count": 35,
      "outputs": [
        {
          "output_type": "stream",
          "name": "stdout",
          "text": [
            "0\n"
          ]
        }
      ]
    },
    {
      "cell_type": "code",
      "source": [
        "# check\n",
        "print(df['FilledLevelProgressionAmount'].isnull().sum())"
      ],
      "metadata": {
        "id": "uwCmNISrwmYw"
      },
      "execution_count": null,
      "outputs": []
    },
    {
      "cell_type": "code",
      "source": [
        "df.to_csv('impute_CGM_CT_LPA.csv')"
      ],
      "metadata": {
        "id": "2L5gWDZmvvBA"
      },
      "execution_count": 36,
      "outputs": []
    },
    {
      "cell_type": "markdown",
      "source": [
        "**step 5: impute missing values of LastTaskCompleted**\n",
        "\n",
        "Method:\n",
        "\n",
        "\n",
        "1.  For the same UserID's same CurrentTask, we assume that LastTaskCompleted is likely to be the same. If there are over 2 continus missing values(just left it as null)\n",
        "2.  After applying method1, the remaining missing values can't infer from UserID and CureentTask due to lack of these data. So we further use Randomforest (add CurrentGameMode and CurrentTask) to predict it\n",
        "\n"
      ],
      "metadata": {
        "id": "eFNWcMdlq0I1"
      }
    },
    {
      "cell_type": "code",
      "source": [
        "from sklearn.ensemble import RandomForestClassifier\n",
        "from sklearn.preprocessing import LabelEncoder\n",
        "from sklearn.model_selection import train_test_split\n",
        "from sklearn.metrics import accuracy_score\n",
        "import numpy as np\n",
        "\n",
        "df['TimeUtc'] = pd.to_datetime(df['TimeUtc'])\n",
        "df.sort_values(by=['UserID', 'TimeUtc'], inplace=True)\n",
        "\n",
        "def fill_last_task(df):\n",
        "\n",
        "    filled_last_task = []\n",
        "\n",
        "\n",
        "    for i in range(len(df)):\n",
        "        user_id = df.iloc[i]['UserID']\n",
        "        current_time = df.iloc[i]['TimeUtc']\n",
        "        current_task = df.iloc[i]['CurrentTask']\n",
        "\n",
        "        # check if missing is continus\n",
        "        if pd.isnull(df.iloc[i]['LastTaskCompleted']):\n",
        "            if i > 1 and pd.isnull(df.iloc[i-1]['LastTaskCompleted']) and pd.isnull(df.iloc[i-2]['LastTaskCompleted']):\n",
        "                filled_last_task.append(np.nan)\n",
        "                continue\n",
        "\n",
        "            previous_data = df[(df['UserID'] == user_id) & (~df['LastTaskCompleted'].isnull()) & (df['TimeUtc'] < current_time)]\n",
        "            next_data = df[(df['UserID'] == user_id) & (~df['LastTaskCompleted'].isnull()) & (df['TimeUtc'] > current_time)]\n",
        "\n",
        "            fill_value = np.nan\n",
        "\n",
        "            if not previous_data.empty:\n",
        "                prev_time = previous_data.iloc[-1]['TimeUtc']\n",
        "                prev_task = previous_data.iloc[-1]['LastTaskCompleted']\n",
        "                if current_time - prev_time <= pd.Timedelta(hours=24) or df.iloc[i]['CurrentTask'] == previous_data.iloc[-1]['CurrentTask']:\n",
        "                    fill_value = prev_task\n",
        "\n",
        "            if not next_data.empty:\n",
        "                next_time = next_data.iloc[0]['TimeUtc']\n",
        "                next_task = next_data.iloc[0]['LastTaskCompleted']\n",
        "                if next_time - current_time <= pd.Timedelta(hours=24) or df.iloc[i]['CurrentTask'] == next_data.iloc[0]['CurrentTask']:\n",
        "                    fill_value = next_task\n",
        "\n",
        "            filled_last_task.append(fill_value)\n",
        "        else:\n",
        "            filled_last_task.append(df.iloc[i]['LastTaskCompleted'])\n",
        "\n",
        "    return filled_last_task\n",
        "\n",
        "df['FilledLastTaskCompleted'] = fill_last_task(df)\n",
        "\n",
        "# Use Randomforest algorithm\n",
        "features = ['CurrentTask', 'CurrentGameMode', 'LastTaskCompleted']\n",
        "target = 'FilledLastTaskCompleted'\n",
        "\n",
        "label_encoders = {}\n",
        "for feature in features:\n",
        "    if df[feature].dtype == 'object':\n",
        "        le = LabelEncoder()\n",
        "        df[feature] = le.fit_transform(df[feature].astype(str))\n",
        "        label_encoders[feature] = le\n",
        "\n",
        "train_data = df.dropna(subset=features + [target])\n",
        "X = train_data[features]\n",
        "y = train_data[target]\n",
        "\n",
        "X_train, X_test, y_train, y_test = train_test_split(X, y, test_size=0.2, random_state=42)\n",
        "\n",
        "model = RandomForestClassifier(random_state=42)\n",
        "model.fit(X_train, y_train)\n",
        "\n",
        "y_pred = model.predict(X_test)\n",
        "print(f'Accuracy: {accuracy_score(y_test, y_pred)}')\n",
        "\n",
        "missing_data = df[df[target].isnull()]\n",
        "missing_features = missing_data[features]\n",
        "\n",
        "predicted_values = model.predict(missing_features)\n",
        "\n",
        "df.loc[df[target].isnull(), target] = predicted_values\n",
        "\n"
      ],
      "metadata": {
        "id": "Opwd9r8hq-VV",
        "colab": {
          "base_uri": "https://localhost:8080/"
        },
        "outputId": "356ef41b-5e67-4842-8e20-95446e1604d3"
      },
      "execution_count": 37,
      "outputs": [
        {
          "output_type": "stream",
          "name": "stdout",
          "text": [
            "Accuracy: 0.8137567745530061\n",
            "        Unnamed: 0 UserID    QuestionTiming             TimeUtc  \\\n",
            "0                0     p1    User Initiated 2022-08-18 22:55:27   \n",
            "1                1     p1  System Initiated 2022-08-18 23:38:31   \n",
            "2                2     p1    User Initiated 2022-08-18 23:39:24   \n",
            "3                3     p1  System Initiated 2022-08-18 23:45:01   \n",
            "4                4     p1  System Initiated 2022-08-18 23:51:22   \n",
            "...            ...    ...               ...                 ...   \n",
            "134411       70401  p9999  System Initiated 2022-10-12 03:44:44   \n",
            "134412       70402  p9999  System Initiated 2022-10-12 04:44:06   \n",
            "134413       70403  p9999  System Initiated 2022-10-12 05:01:29   \n",
            "134414       70404  p9999  System Initiated 2022-10-12 05:09:22   \n",
            "134415       70405  p9999  System Initiated 2022-10-12 05:24:06   \n",
            "\n",
            "        CurrentGameMode  CurrentTask  CurrentSessionLength  LastTaskCompleted  \\\n",
            "0                     0           31                     2                 51   \n",
            "1                     0           31                     0                 51   \n",
            "2                     0           21                     1                 32   \n",
            "3                     0           33                     6                 32   \n",
            "4                     0           33                    13                 32   \n",
            "...                 ...          ...                   ...                ...   \n",
            "134411                0           31                    20                 51   \n",
            "134412                0           31                    80                 42   \n",
            "134413                0           31                    97                 34   \n",
            "134414                0           31                   105                  7   \n",
            "134415                0           38                   120                 24   \n",
            "\n",
            "        LevelProgressionAmount QuestionType  ResponseValue  UserID_encoded  \\\n",
            "0                          NaN    Wellbeing          509.0               0   \n",
            "1                          NaN    Wellbeing          653.0               0   \n",
            "2                     1.000000    Wellbeing          705.0               0   \n",
            "3                     0.168267    Wellbeing          817.0               0   \n",
            "4                     0.429364    Wellbeing          810.0               0   \n",
            "...                        ...          ...            ...             ...   \n",
            "134411                0.445170    Wellbeing          806.0            8168   \n",
            "134412                0.887364    Wellbeing          877.0            8168   \n",
            "134413                0.971528    Wellbeing          948.0            8168   \n",
            "134414                0.999969    Wellbeing          881.0            8168   \n",
            "134415                0.207270    Wellbeing          884.0            8168   \n",
            "\n",
            "        CurrentGameMode_encoded  Week  FilledLevelProgressionAmount  \\\n",
            "0                             4     0                      0.000000   \n",
            "1                             4     0                      0.000000   \n",
            "2                             0     0                      1.000000   \n",
            "3                             0     0                      0.168267   \n",
            "4                             0     0                      0.429364   \n",
            "...                         ...   ...                           ...   \n",
            "134411                        0     7                      0.445170   \n",
            "134412                        0     7                      0.887364   \n",
            "134413                        0     7                      0.971528   \n",
            "134414                        0     7                      0.999969   \n",
            "134415                        0     7                      0.207270   \n",
            "\n",
            "       FilledLastTaskCompleted  \n",
            "0                   WASH_PWVan  \n",
            "1                   WASH_PWVan  \n",
            "2                   WASH_PWVan  \n",
            "3                   WASH_PWVan  \n",
            "4                   WASH_PWVan  \n",
            "...                        ...  \n",
            "134411         WASH_Stegoslide  \n",
            "134412         WASH_Stegoslide  \n",
            "134413    WASH_PlaygroundFloor  \n",
            "134414           WASH_Bench_01  \n",
            "134415           WASH_GolfCart  \n",
            "\n",
            "[134416 rows x 16 columns]\n",
            "0\n"
          ]
        }
      ]
    },
    {
      "cell_type": "code",
      "source": [
        "df.to_csv('final_data.csv')"
      ],
      "metadata": {
        "id": "q84-wrQ4JeiY"
      },
      "execution_count": null,
      "outputs": []
    },
    {
      "cell_type": "code",
      "source": [
        "df1 = pd.read_csv('impute_CGM_CT_LPA.csv')\n",
        "df2 = pd.read_csv('final_data.csv')"
      ],
      "metadata": {
        "id": "Kh_Q5NUL6mO0"
      },
      "execution_count": 81,
      "outputs": []
    },
    {
      "cell_type": "code",
      "source": [
        "# replace df2's currentgamemode and currenttask with df1's\n",
        "df1.sort_values(by=['UserID', 'TimeUtc'], inplace=True)\n",
        "df1.reset_index(drop=True, inplace=True)\n",
        "df1.index.name = 'NewIndexName'\n",
        "print(df1)\n",
        "\n"
      ],
      "metadata": {
        "colab": {
          "base_uri": "https://localhost:8080/"
        },
        "id": "PxS9GtAzGeDv",
        "outputId": "456d43d2-b40b-4a67-86b2-e64b3b294dc0"
      },
      "execution_count": 82,
      "outputs": [
        {
          "output_type": "stream",
          "name": "stdout",
          "text": [
            "              Unnamed: 0.1  Unnamed: 0 UserID    QuestionTiming  \\\n",
            "NewIndexName                                                      \n",
            "0                        0           0     p1    User Initiated   \n",
            "1                        1           1     p1  System Initiated   \n",
            "2                        2           2     p1    User Initiated   \n",
            "3                        3           3     p1  System Initiated   \n",
            "4                        4           4     p1  System Initiated   \n",
            "...                    ...         ...    ...               ...   \n",
            "134411              134411       70401  p9999  System Initiated   \n",
            "134412              134412       70402  p9999  System Initiated   \n",
            "134413              134413       70403  p9999  System Initiated   \n",
            "134414              134414       70404  p9999  System Initiated   \n",
            "134415              134415       70405  p9999  System Initiated   \n",
            "\n",
            "                          TimeUtc CurrentGameMode  \\\n",
            "NewIndexName                                        \n",
            "0             2022-08-18 22:55:27          Career   \n",
            "1             2022-08-18 23:38:31          Career   \n",
            "2             2022-08-18 23:39:24          Career   \n",
            "3             2022-08-18 23:45:01          Career   \n",
            "4             2022-08-18 23:51:22          Career   \n",
            "...                           ...             ...   \n",
            "134411        2022-10-12 03:44:44          Career   \n",
            "134412        2022-10-12 04:44:06          Career   \n",
            "134413        2022-10-12 05:01:29          Career   \n",
            "134414        2022-10-12 05:09:22          Career   \n",
            "134415        2022-10-12 05:24:06          Career   \n",
            "\n",
            "                              CurrentTask  CurrentSessionLength  \\\n",
            "NewIndexName                                                      \n",
            "0             RECREATIONGROUND_PLAYGROUND                     2   \n",
            "1             RECREATIONGROUND_PLAYGROUND                     0   \n",
            "2                                HOME_VAN                     1   \n",
            "3               RESIDENTIALSMALL_BACKYARD                     6   \n",
            "4               RESIDENTIALSMALL_BACKYARD                    13   \n",
            "...                                   ...                   ...   \n",
            "134411        RECREATIONGROUND_PLAYGROUND                    20   \n",
            "134412        RECREATIONGROUND_PLAYGROUND                    80   \n",
            "134413        RECREATIONGROUND_PLAYGROUND                    97   \n",
            "134414        RECREATIONGROUND_PLAYGROUND                   105   \n",
            "134415             SUBURBIA_DETACHEDHOUSE                   120   \n",
            "\n",
            "                 LastTaskCompleted  LevelProgressionAmount QuestionType  \\\n",
            "NewIndexName                                                              \n",
            "0                              NaN                     NaN    Wellbeing   \n",
            "1                              NaN                     NaN    Wellbeing   \n",
            "2                       WASH_PWVan                1.000000    Wellbeing   \n",
            "3                       WASH_PWVan                0.168267    Wellbeing   \n",
            "4                       WASH_PWVan                0.429364    Wellbeing   \n",
            "...                            ...                     ...          ...   \n",
            "134411                         NaN                0.445170    Wellbeing   \n",
            "134412             WASH_Stegoslide                0.887364    Wellbeing   \n",
            "134413        WASH_PlaygroundFloor                0.971528    Wellbeing   \n",
            "134414               WASH_Bench_01                0.999969    Wellbeing   \n",
            "134415               WASH_GolfCart                0.207270    Wellbeing   \n",
            "\n",
            "              ResponseValue  UserID_encoded  CurrentGameMode_encoded  Week  \\\n",
            "NewIndexName                                                                 \n",
            "0                     509.0               0                        4     0   \n",
            "1                     653.0               0                        4     0   \n",
            "2                     705.0               0                        0     0   \n",
            "3                     817.0               0                        0     0   \n",
            "4                     810.0               0                        0     0   \n",
            "...                     ...             ...                      ...   ...   \n",
            "134411                806.0            8168                        0     7   \n",
            "134412                877.0            8168                        0     7   \n",
            "134413                948.0            8168                        0     7   \n",
            "134414                881.0            8168                        0     7   \n",
            "134415                884.0            8168                        0     7   \n",
            "\n",
            "              FilledLevelProgressionAmount  \n",
            "NewIndexName                                \n",
            "0                                 0.000000  \n",
            "1                                 0.000000  \n",
            "2                                 1.000000  \n",
            "3                                 0.168267  \n",
            "4                                 0.429364  \n",
            "...                                    ...  \n",
            "134411                            0.445170  \n",
            "134412                            0.887364  \n",
            "134413                            0.971528  \n",
            "134414                            0.999969  \n",
            "134415                            0.207270  \n",
            "\n",
            "[134416 rows x 16 columns]\n"
          ]
        }
      ]
    },
    {
      "cell_type": "code",
      "source": [
        "df2.sort_values(by=['UserID', 'TimeUtc'], inplace=True)\n",
        "df2.reset_index(drop=True, inplace=True)\n",
        "df2.index.name = 'NewIndexName'\n",
        "print(df2)"
      ],
      "metadata": {
        "colab": {
          "base_uri": "https://localhost:8080/"
        },
        "id": "nbHMeEPTG6qe",
        "outputId": "4a1b1da9-af74-402e-c3d3-4656725101c3"
      },
      "execution_count": 83,
      "outputs": [
        {
          "output_type": "stream",
          "name": "stdout",
          "text": [
            "              Unnamed: 0.1  Unnamed: 0 UserID    QuestionTiming  \\\n",
            "NewIndexName                                                      \n",
            "0                        0           0     p1    User Initiated   \n",
            "1                        1           1     p1  System Initiated   \n",
            "2                        2           2     p1    User Initiated   \n",
            "3                        3           3     p1  System Initiated   \n",
            "4                        4           4     p1  System Initiated   \n",
            "...                    ...         ...    ...               ...   \n",
            "134411              134411       70401  p9999  System Initiated   \n",
            "134412              134412       70402  p9999  System Initiated   \n",
            "134413              134413       70403  p9999  System Initiated   \n",
            "134414              134414       70404  p9999  System Initiated   \n",
            "134415              134415       70405  p9999  System Initiated   \n",
            "\n",
            "                          TimeUtc  CurrentGameMode  CurrentTask  \\\n",
            "NewIndexName                                                      \n",
            "0             2022-08-18 22:55:27                0           31   \n",
            "1             2022-08-18 23:38:31                0           31   \n",
            "2             2022-08-18 23:39:24                0           21   \n",
            "3             2022-08-18 23:45:01                0           33   \n",
            "4             2022-08-18 23:51:22                0           33   \n",
            "...                           ...              ...          ...   \n",
            "134411        2022-10-12 03:44:44                0           31   \n",
            "134412        2022-10-12 04:44:06                0           31   \n",
            "134413        2022-10-12 05:01:29                0           31   \n",
            "134414        2022-10-12 05:09:22                0           31   \n",
            "134415        2022-10-12 05:24:06                0           38   \n",
            "\n",
            "              CurrentSessionLength  LastTaskCompleted  LevelProgressionAmount  \\\n",
            "NewIndexName                                                                    \n",
            "0                                2                 51                0.000000   \n",
            "1                                0                 51                0.000000   \n",
            "2                                1                 32                1.000000   \n",
            "3                                6                 32                0.168267   \n",
            "4                               13                 32                0.429364   \n",
            "...                            ...                ...                     ...   \n",
            "134411                          20                 51                0.445170   \n",
            "134412                          80                 42                0.887364   \n",
            "134413                          97                 34                0.971528   \n",
            "134414                         105                  7                0.999969   \n",
            "134415                         120                 24                0.207270   \n",
            "\n",
            "             QuestionType  ResponseValue  UserID_encoded  \\\n",
            "NewIndexName                                               \n",
            "0               Wellbeing          509.0               0   \n",
            "1               Wellbeing          653.0               0   \n",
            "2               Wellbeing          705.0               0   \n",
            "3               Wellbeing          817.0               0   \n",
            "4               Wellbeing          810.0               0   \n",
            "...                   ...            ...             ...   \n",
            "134411          Wellbeing          806.0            8168   \n",
            "134412          Wellbeing          877.0            8168   \n",
            "134413          Wellbeing          948.0            8168   \n",
            "134414          Wellbeing          881.0            8168   \n",
            "134415          Wellbeing          884.0            8168   \n",
            "\n",
            "              CurrentGameMode_encoded  Week  FilledLevelProgressionAmount  \\\n",
            "NewIndexName                                                                \n",
            "0                                   4     0                      0.000000   \n",
            "1                                   4     0                      0.000000   \n",
            "2                                   0     0                      1.000000   \n",
            "3                                   0     0                      0.168267   \n",
            "4                                   0     0                      0.429364   \n",
            "...                               ...   ...                           ...   \n",
            "134411                              0     7                      0.445170   \n",
            "134412                              0     7                      0.887364   \n",
            "134413                              0     7                      0.971528   \n",
            "134414                              0     7                      0.999969   \n",
            "134415                              0     7                      0.207270   \n",
            "\n",
            "             FilledLastTaskCompleted  \n",
            "NewIndexName                          \n",
            "0                         WASH_PWVan  \n",
            "1                         WASH_PWVan  \n",
            "2                         WASH_PWVan  \n",
            "3                         WASH_PWVan  \n",
            "4                         WASH_PWVan  \n",
            "...                              ...  \n",
            "134411               WASH_Stegoslide  \n",
            "134412               WASH_Stegoslide  \n",
            "134413          WASH_PlaygroundFloor  \n",
            "134414                 WASH_Bench_01  \n",
            "134415                 WASH_GolfCart  \n",
            "\n",
            "[134416 rows x 17 columns]\n"
          ]
        }
      ]
    },
    {
      "cell_type": "code",
      "source": [
        "df2['CurrentGameMode'] = df1['CurrentGameMode']\n",
        "df2['CurrentTask'] = df1['CurrentTask']\n",
        "df2['LastTaskCompleted'] = df2['FilledLastTaskCompleted']\n",
        "\n",
        "print(df2)"
      ],
      "metadata": {
        "colab": {
          "base_uri": "https://localhost:8080/"
        },
        "id": "7gqL4n1RDwrg",
        "outputId": "c4f1b8d5-7a59-476b-be42-9d216747baeb"
      },
      "execution_count": 84,
      "outputs": [
        {
          "output_type": "stream",
          "name": "stdout",
          "text": [
            "              Unnamed: 0.1  Unnamed: 0 UserID    QuestionTiming  \\\n",
            "NewIndexName                                                      \n",
            "0                        0           0     p1    User Initiated   \n",
            "1                        1           1     p1  System Initiated   \n",
            "2                        2           2     p1    User Initiated   \n",
            "3                        3           3     p1  System Initiated   \n",
            "4                        4           4     p1  System Initiated   \n",
            "...                    ...         ...    ...               ...   \n",
            "134411              134411       70401  p9999  System Initiated   \n",
            "134412              134412       70402  p9999  System Initiated   \n",
            "134413              134413       70403  p9999  System Initiated   \n",
            "134414              134414       70404  p9999  System Initiated   \n",
            "134415              134415       70405  p9999  System Initiated   \n",
            "\n",
            "                          TimeUtc CurrentGameMode  CurrentTask  \\\n",
            "NewIndexName                                                     \n",
            "0             2022-08-18 22:55:27          Career           31   \n",
            "1             2022-08-18 23:38:31          Career           31   \n",
            "2             2022-08-18 23:39:24          Career           21   \n",
            "3             2022-08-18 23:45:01          Career           33   \n",
            "4             2022-08-18 23:51:22          Career           33   \n",
            "...                           ...             ...          ...   \n",
            "134411        2022-10-12 03:44:44          Career           31   \n",
            "134412        2022-10-12 04:44:06          Career           31   \n",
            "134413        2022-10-12 05:01:29          Career           31   \n",
            "134414        2022-10-12 05:09:22          Career           31   \n",
            "134415        2022-10-12 05:24:06          Career           38   \n",
            "\n",
            "              CurrentSessionLength  LastTaskCompleted  LevelProgressionAmount  \\\n",
            "NewIndexName                                                                    \n",
            "0                                2                 51                0.000000   \n",
            "1                                0                 51                0.000000   \n",
            "2                                1                 32                1.000000   \n",
            "3                                6                 32                0.168267   \n",
            "4                               13                 32                0.429364   \n",
            "...                            ...                ...                     ...   \n",
            "134411                          20                 51                0.445170   \n",
            "134412                          80                 42                0.887364   \n",
            "134413                          97                 34                0.971528   \n",
            "134414                         105                  7                0.999969   \n",
            "134415                         120                 24                0.207270   \n",
            "\n",
            "             QuestionType  ResponseValue  UserID_encoded  \\\n",
            "NewIndexName                                               \n",
            "0               Wellbeing          509.0               0   \n",
            "1               Wellbeing          653.0               0   \n",
            "2               Wellbeing          705.0               0   \n",
            "3               Wellbeing          817.0               0   \n",
            "4               Wellbeing          810.0               0   \n",
            "...                   ...            ...             ...   \n",
            "134411          Wellbeing          806.0            8168   \n",
            "134412          Wellbeing          877.0            8168   \n",
            "134413          Wellbeing          948.0            8168   \n",
            "134414          Wellbeing          881.0            8168   \n",
            "134415          Wellbeing          884.0            8168   \n",
            "\n",
            "              CurrentGameMode_encoded  Week  FilledLevelProgressionAmount  \\\n",
            "NewIndexName                                                                \n",
            "0                                   4     0                      0.000000   \n",
            "1                                   4     0                      0.000000   \n",
            "2                                   0     0                      1.000000   \n",
            "3                                   0     0                      0.168267   \n",
            "4                                   0     0                      0.429364   \n",
            "...                               ...   ...                           ...   \n",
            "134411                              0     7                      0.445170   \n",
            "134412                              0     7                      0.887364   \n",
            "134413                              0     7                      0.971528   \n",
            "134414                              0     7                      0.999969   \n",
            "134415                              0     7                      0.207270   \n",
            "\n",
            "             FilledLastTaskCompleted  \n",
            "NewIndexName                          \n",
            "0                         WASH_PWVan  \n",
            "1                         WASH_PWVan  \n",
            "2                         WASH_PWVan  \n",
            "3                         WASH_PWVan  \n",
            "4                         WASH_PWVan  \n",
            "...                              ...  \n",
            "134411               WASH_Stegoslide  \n",
            "134412               WASH_Stegoslide  \n",
            "134413          WASH_PlaygroundFloor  \n",
            "134414                 WASH_Bench_01  \n",
            "134415                 WASH_GolfCart  \n",
            "\n",
            "[134416 rows x 17 columns]\n"
          ]
        }
      ]
    },
    {
      "cell_type": "code",
      "source": [
        "df2.to_csv('final_clean_data.csv')"
      ],
      "metadata": {
        "id": "J1r0RrHeHgHO"
      },
      "execution_count": 90,
      "outputs": []
    }
  ]
}